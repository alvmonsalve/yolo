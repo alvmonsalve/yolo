{
 "cells": [
  {
   "cell_type": "code",
   "execution_count": 38,
   "id": "9ad069ae",
   "metadata": {},
   "outputs": [],
   "source": [
    "import cv2 as cv\n",
    "import numpy as np"
   ]
  },
  {
   "cell_type": "code",
   "execution_count": 39,
   "id": "7311ec6f",
   "metadata": {},
   "outputs": [],
   "source": [
    "# Load Video\n",
    "cap = cv.VideoCapture('inputVideos/video_01.mp4')"
   ]
  },
  {
   "cell_type": "code",
   "execution_count": 40,
   "id": "33cc2abf",
   "metadata": {},
   "outputs": [],
   "source": [
    "# Get Frame\n",
    "ret, frame = cap.read()"
   ]
  },
  {
   "cell_type": "code",
   "execution_count": 41,
   "id": "da7482df",
   "metadata": {},
   "outputs": [],
   "source": [
    "# Draw Polygon\n",
    "contours1 = np.array([[237,180],[297,180],[424,550],[255,542]], np.int32).reshape((-1,1,2))\n",
    "contours2 = np.array([[255,543],[424,551],[459,645],[258,630]], np.int32).reshape((-1,1,2))\n",
    "\n",
    "contours3 = np.array([[298,180],[350,180],[590,562],[425,550]], np.int32).reshape((-1,1,2))\n",
    "contours4 = np.array([[425,550],[590,562],[650,658],[460,645]], np.int32).reshape((-1,1,2))\n",
    "\n",
    "contours5 = np.array([[385,230],[448,230],[750,574],[591,561]], np.int32).reshape((-1,1,2))\n",
    "\n",
    "\n",
    "frame = cv.polylines(frame,[contours1, contours2, contours3, contours4, contours5 ],True,(0,255,0),2,cv.LINE_AA)\n",
    "\n",
    "frame = cv.putText(frame, \"1\", (257, 200), cv.FONT_HERSHEY_SIMPLEX, 0.5, (0,255,0), 2)\n",
    "frame = cv.putText(frame, \"2\", (315, 563), cv.FONT_HERSHEY_SIMPLEX, 0.5, (0,255,0), 2)\n",
    "frame = cv.putText(frame, \"3\", (320, 200), cv.FONT_HERSHEY_SIMPLEX, 0.5, (0,255,0), 2)\n",
    "frame = cv.putText(frame, \"4\", (445, 570), cv.FONT_HERSHEY_SIMPLEX, 0.5, (0,255,0), 2)\n",
    "frame = cv.putText(frame, \"5\", (405, 250), cv.FONT_HERSHEY_SIMPLEX, 0.5, (0,255,0), 2)"
   ]
  },
  {
   "cell_type": "code",
   "execution_count": 42,
   "id": "ba39d683",
   "metadata": {},
   "outputs": [],
   "source": [
    "# Show Image\n",
    "cv.imshow('image', frame)\n",
    "cv.waitKey(1) \n",
    "cv.destroyAllWindows()"
   ]
  },
  {
   "cell_type": "code",
   "execution_count": 43,
   "id": "922f6c57",
   "metadata": {},
   "outputs": [
    {
     "data": {
      "text/plain": [
       "-1"
      ]
     },
     "execution_count": 43,
     "metadata": {},
     "output_type": "execute_result"
    }
   ],
   "source": [
    "# Close the image\n",
    "cv.waitKey(1) "
   ]
  },
  {
   "cell_type": "code",
   "execution_count": 44,
   "id": "d752b3f3",
   "metadata": {},
   "outputs": [
    {
     "name": "stdout",
     "output_type": "stream",
     "text": [
      "Inside (257, 200) Point:  1.0\n",
      "In the Contour (237,180) Point:  0.0\n",
      "Outside (100, 100) Point:  -1.0\n"
     ]
    }
   ],
   "source": [
    "# Checking the pointPolygonTest function\n",
    "print(\"Inside (257, 200) Point: \", cv.pointPolygonTest(contours1, (257, 200), False) )\n",
    "print(\"In the Contour (237,180) Point: \", cv.pointPolygonTest(contours1, (237,180), False) )\n",
    "print(\"Outside (100, 100) Point: \", cv.pointPolygonTest(contours1, (100, 100), False) )"
   ]
  },
  {
   "cell_type": "code",
   "execution_count": 45,
   "id": "fa439a34",
   "metadata": {},
   "outputs": [],
   "source": [
    "contours = [np.array([[237,180],[297,180],[424,550],[255,542]], np.int32).reshape((-1,1,2)),\n",
    "np.array([[255,543],[424,551],[459,645],[258,630]], np.int32).reshape((-1,1,2)),\n",
    "np.array([[298,180],[350,180],[590,562],[425,550]], np.int32).reshape((-1,1,2)),\n",
    "np.array([[425,550],[590,562],[650,658],[460,645]], np.int32).reshape((-1,1,2)),\n",
    "np.array([[385,230],[448,230],[750,574],[591,561]], np.int32).reshape((-1,1,2))]"
   ]
  },
  {
   "cell_type": "code",
   "execution_count": 59,
   "id": "ee33527d",
   "metadata": {},
   "outputs": [],
   "source": [
    "## Factors for Speed Estimation / Approximation"
   ]
  },
  {
   "cell_type": "code",
   "execution_count": 60,
   "id": "23eb38e6",
   "metadata": {},
   "outputs": [
    {
     "data": {
      "text/plain": [
       "array([[[237, 180]],\n",
       "\n",
       "       [[297, 180]],\n",
       "\n",
       "       [[424, 550]],\n",
       "\n",
       "       [[255, 542]]], dtype=int32)"
      ]
     },
     "execution_count": 60,
     "metadata": {},
     "output_type": "execute_result"
    }
   ],
   "source": [
    "contours[0]"
   ]
  },
  {
   "cell_type": "code",
   "execution_count": 61,
   "id": "654fa23b",
   "metadata": {},
   "outputs": [
    {
     "data": {
      "text/plain": [
       "array([[ 18, 362]], dtype=int32)"
      ]
     },
     "execution_count": 61,
     "metadata": {},
     "output_type": "execute_result"
    }
   ],
   "source": [
    "factor_contour = contours[0]\n",
    "contours[0][3] - contours[0][0]"
   ]
  },
  {
   "cell_type": "code",
   "execution_count": 62,
   "id": "c72568a8",
   "metadata": {},
   "outputs": [
    {
     "data": {
      "text/plain": [
       "array([[127, 370]], dtype=int32)"
      ]
     },
     "execution_count": 62,
     "metadata": {},
     "output_type": "execute_result"
    }
   ],
   "source": [
    "contours[0][2] - contours[0][1]"
   ]
  },
  {
   "cell_type": "code",
   "execution_count": 63,
   "id": "f054abff",
   "metadata": {},
   "outputs": [
    {
     "data": {
      "text/plain": [
       "array([[ 72.5, 366. ]])"
      ]
     },
     "execution_count": 63,
     "metadata": {},
     "output_type": "execute_result"
    }
   ],
   "source": [
    "(contours[0][3] - contours[0][0] + contours[0][2] - contours[0][1]) / 2"
   ]
  },
  {
   "cell_type": "code",
   "execution_count": 64,
   "id": "3c9df09a",
   "metadata": {},
   "outputs": [
    {
     "data": {
      "text/plain": [
       "366.0"
      ]
     },
     "execution_count": 64,
     "metadata": {},
     "output_type": "execute_result"
    }
   ],
   "source": [
    "c_idx=0\n",
    "((contours[c_idx][3] - contours[c_idx][0] + contours[c_idx][2] - contours[c_idx][1]) / 2)[0][1]"
   ]
  },
  {
   "cell_type": "code",
   "execution_count": 65,
   "id": "ae476b86",
   "metadata": {},
   "outputs": [
    {
     "data": {
      "text/plain": [
       "[0.00014954876635204505,\n",
       " 4.185501423070484e-06,\n",
       " 0.00014456399097356545,\n",
       " 3.966365222909725e-06,\n",
       " 0.00011616161616161616]"
      ]
     },
     "execution_count": 65,
     "metadata": {},
     "output_type": "execute_result"
    }
   ],
   "source": [
    "c_idx=0\n",
    "feet_per_mile = 5280\n",
    "c_y_feet = [ 289, 2, 287, 2, 207]   # As per provided drawing\n",
    "factors = []\n",
    "\n",
    "for c_idx in range(5): \n",
    "    c_y_pixels = ((contours[c_idx][3] - contours[c_idx][0] + contours[c_idx][2] - contours[c_idx][1]) / 2)[0][1]\n",
    "    factors.append(c_y_feet[c_idx] / (c_y_pixels * feet_per_mile))\n",
    "\n",
    "factors"
   ]
  },
  {
   "cell_type": "code",
   "execution_count": 82,
   "id": "b28ec783",
   "metadata": {},
   "outputs": [],
   "source": [
    "contour_factors = [0.00014954876635204505, 4.185501423070484e-06, 0.00014456399097356545, 3.966365222909725e-06, 0.00011616161616161616]"
   ]
  },
  {
   "cell_type": "code",
   "execution_count": 93,
   "id": "b4889978",
   "metadata": {},
   "outputs": [
    {
     "data": {
      "text/plain": [
       "array([15.61289121,  0.43696635, 15.09248066,  0.41408853, 12.12727273])"
      ]
     },
     "execution_count": 93,
     "metadata": {},
     "output_type": "execute_result"
    }
   ],
   "source": [
    "np.array(contour_factors) * 29 * 3600"
   ]
  },
  {
   "cell_type": "code",
   "execution_count": null,
   "id": "f220cb0f",
   "metadata": {},
   "outputs": [],
   "source": []
  }
 ],
 "metadata": {
  "kernelspec": {
   "display_name": "Python 3 (ipykernel)",
   "language": "python",
   "name": "python3"
  },
  "language_info": {
   "codemirror_mode": {
    "name": "ipython",
    "version": 3
   },
   "file_extension": ".py",
   "mimetype": "text/x-python",
   "name": "python",
   "nbconvert_exporter": "python",
   "pygments_lexer": "ipython3",
   "version": "3.9.7"
  }
 },
 "nbformat": 4,
 "nbformat_minor": 5
}
