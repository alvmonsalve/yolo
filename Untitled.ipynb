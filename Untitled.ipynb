{
 "cells": [
  {
   "cell_type": "code",
   "execution_count": 89,
   "id": "7609bfb7",
   "metadata": {},
   "outputs": [
    {
     "name": "stdout",
     "output_type": "stream",
     "text": [
      "[3.53332 2.5222  1.533  ]\n"
     ]
    }
   ],
   "source": [
    "import numpy as np\n",
    "from numpy_ringbuffer import RingBuffer\n",
    "\n",
    "fspeed = RingBuffer(capacity=3, dtype=np.float)\n",
    "fspeed.append(1.533)\n",
    "fspeed.appendleft(2.5222)\n",
    "fspeed.appendleft(3.53332)\n",
    "print(np.array(fspeed))"
   ]
  },
  {
   "cell_type": "code",
   "execution_count": 90,
   "id": "ebca17fa",
   "metadata": {},
   "outputs": [
    {
     "name": "stdout",
     "output_type": "stream",
     "text": [
      "[4.5     3.53332 2.5222 ]\n"
     ]
    }
   ],
   "source": [
    "fspeed.appendleft(4.5)\n",
    "print(np.array(fspeed))\n"
   ]
  },
  {
   "cell_type": "code",
   "execution_count": 91,
   "id": "9c21abd7",
   "metadata": {},
   "outputs": [
    {
     "data": {
      "text/plain": [
       "3.5185066666666667"
      ]
     },
     "execution_count": 91,
     "metadata": {},
     "output_type": "execute_result"
    }
   ],
   "source": [
    "np.average(fspeed)"
   ]
  },
  {
   "cell_type": "code",
   "execution_count": 99,
   "id": "4fe03b65",
   "metadata": {},
   "outputs": [
    {
     "data": {
      "text/plain": [
       "'3.52'"
      ]
     },
     "execution_count": 99,
     "metadata": {},
     "output_type": "execute_result"
    }
   ],
   "source": [
    "\"{:.2f}\".format(np.average(fspeed))"
   ]
  },
  {
   "cell_type": "code",
   "execution_count": null,
   "id": "89c1129c",
   "metadata": {},
   "outputs": [],
   "source": [
    "while(1):\n",
    "    try:\n",
    "        print(fspeed.pop())\n",
    "    except:\n",
    "        break"
   ]
  },
  {
   "cell_type": "code",
   "execution_count": null,
   "id": "bf6b6482",
   "metadata": {},
   "outputs": [],
   "source": [
    "print(np.array(fspeed))"
   ]
  },
  {
   "cell_type": "code",
   "execution_count": null,
   "id": "bd7a4e10",
   "metadata": {},
   "outputs": [],
   "source": [
    "FRAMES_BEFORE_CURRENT = 10\n",
    "RING_SPEED_SIZE = 5\n",
    "previous_frame_detections = [{(0,0):[0, RingBuffer(capacity=RING_SPEED_SIZE, dtype=np.float)]} for i in range(FRAMES_BEFORE_CURRENT)]\n",
    "previous_frame_detections"
   ]
  },
  {
   "cell_type": "code",
   "execution_count": null,
   "id": "b927a1b1",
   "metadata": {},
   "outputs": [],
   "source": [
    "current_detections = {}\n",
    "current_detections[(0, 0)] = 1\n",
    "current_detections"
   ]
  },
  {
   "cell_type": "code",
   "execution_count": null,
   "id": "af2accbb",
   "metadata": {},
   "outputs": [],
   "source": [
    "index = 0\n",
    "previous_frame_detections[index][(0,0)][0]"
   ]
  },
  {
   "cell_type": "code",
   "execution_count": null,
   "id": "15f08404",
   "metadata": {},
   "outputs": [],
   "source": [
    "previous_frame_detections[index][(0,0)][1]"
   ]
  },
  {
   "cell_type": "code",
   "execution_count": null,
   "id": "fb730efb",
   "metadata": {},
   "outputs": [],
   "source": [
    "list(previous_frame_detections[0].keys())"
   ]
  },
  {
   "cell_type": "code",
   "execution_count": null,
   "id": "2947120b",
   "metadata": {},
   "outputs": [],
   "source": [
    "previous_frame_detections[index][(0,0)]"
   ]
  },
  {
   "cell_type": "code",
   "execution_count": null,
   "id": "5324fd47",
   "metadata": {},
   "outputs": [],
   "source": [
    "current_detections[(0, 0)] = 1"
   ]
  },
  {
   "cell_type": "code",
   "execution_count": null,
   "id": "714f78b4",
   "metadata": {},
   "outputs": [],
   "source": [
    "current_detections.get((0, 0))"
   ]
  },
  {
   "cell_type": "code",
   "execution_count": null,
   "id": "4dec6a54",
   "metadata": {},
   "outputs": [],
   "source": [
    "import random\n",
    "\n",
    "print(random.randint(1, 9))"
   ]
  },
  {
   "cell_type": "code",
   "execution_count": null,
   "id": "c079949a",
   "metadata": {},
   "outputs": [],
   "source": [
    "(x, y) = list(previous_frame_detections[0].keys())[0]\n",
    "x"
   ]
  },
  {
   "cell_type": "code",
   "execution_count": null,
   "id": "56aa5e40",
   "metadata": {},
   "outputs": [],
   "source": [
    "y"
   ]
  },
  {
   "cell_type": "code",
   "execution_count": null,
   "id": "466dccfc",
   "metadata": {},
   "outputs": [],
   "source": [
    "coord=list(previous_frame_detections[0].keys())[0]\n",
    "coord"
   ]
  },
  {
   "cell_type": "code",
   "execution_count": null,
   "id": "1253578e",
   "metadata": {},
   "outputs": [],
   "source": [
    "coord[1]"
   ]
  },
  {
   "cell_type": "code",
   "execution_count": null,
   "id": "9c0a5c82",
   "metadata": {},
   "outputs": [],
   "source": []
  }
 ],
 "metadata": {
  "kernelspec": {
   "display_name": "Python 3 (ipykernel)",
   "language": "python",
   "name": "python3"
  },
  "language_info": {
   "codemirror_mode": {
    "name": "ipython",
    "version": 3
   },
   "file_extension": ".py",
   "mimetype": "text/x-python",
   "name": "python",
   "nbconvert_exporter": "python",
   "pygments_lexer": "ipython3",
   "version": "3.9.7"
  }
 },
 "nbformat": 4,
 "nbformat_minor": 5
}
